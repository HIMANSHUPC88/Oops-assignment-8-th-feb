{
 "cells": [
  {
   "cell_type": "markdown",
   "id": "8d9f13b4-2f5f-47e6-99bc-00457b79f244",
   "metadata": {},
   "source": [
    "Q1. What is Abstraction in OOps? Explain with an example.\n",
    "Ans1.  Abstarction is the blue print or structure for a abstract class and abstruct allows to focous on important details while hiding unimportant details ."
   ]
  },
  {
   "cell_type": "code",
   "execution_count": 11,
   "id": "9c406074-3abb-4bf1-8b81-07c4970e9f0c",
   "metadata": {},
   "outputs": [],
   "source": [
    "#Example of Abstraction \n",
    "import abc \n",
    "class Animal ():\n",
    "    @abc.abstractmethod\n",
    "    def voice (self):\n",
    "        pass\n",
    "    def move (self):\n",
    "        pass \n",
    "    \n",
    "    \n",
    "class Human(Animal):\n",
    "    @abc.abstractmethod\n",
    "    def voice (self):\n",
    "        print(\"Human\",\"Human's voice\")\n",
    "    def move(self):\n",
    "        print(\"Human\",\"Humans can walk , crawl , run \")\n",
    " \n",
    "\n",
    "class  Dog(Animal):\n",
    "    @abc.abstractmethod\n",
    "    def voice(self):\n",
    "        print (\"Dog\",\"Dogs can Bark and weap \")\n",
    "    def move(self):\n",
    "        print (\"Dog\",\"Dogs can crawl , walk and run \")\n",
    "        \n",
    "class Lion(Animal):\n",
    "    @abc.abstractmethod\n",
    "    def voice(self):\n",
    "         print (\"Lion\",\"Lions can Roar\")\n",
    "    def move(self):\n",
    "        print (\"Lion\",\"Lions can Walk & Run \")"
   ]
  },
  {
   "cell_type": "code",
   "execution_count": 13,
   "id": "420a4747-b0da-4256-b2cb-eb3efb256e23",
   "metadata": {},
   "outputs": [
    {
     "name": "stdout",
     "output_type": "stream",
     "text": [
      "Human Humans can walk , crawl , run \n",
      "Human Human's voice\n",
      "Dog Dogs can crawl , walk and run \n",
      "Dog Dogs can Bark and weap \n",
      "Lion Lions can Walk & Run \n",
      "Lion Lions can Roar\n"
     ]
    }
   ],
   "source": [
    "H = Human()\n",
    "H.move()\n",
    "H.voice()\n",
    "D = Dog()\n",
    "D.move()\n",
    "D.voice()\n",
    "L = Lion()\n",
    "L.move()\n",
    "L.voice()\n",
    "#answer 1 is completed now "
   ]
  },
  {
   "cell_type": "markdown",
   "id": "51ae9800-3aed-4464-a9ee-75d8ce8424fd",
   "metadata": {},
   "source": [
    "Q2. Differentiate between Abstraction and Encapsulation. Explain with an example."
   ]
  },
  {
   "cell_type": "markdown",
   "id": "cbaea068-9679-4c67-92ae-42faea279ca1",
   "metadata": {},
   "source": [
    "Answer1.  Abstraction focuses on providing a simplified view or interface, hiding unnecessary details.\n",
    "\n",
    "For example, let's consider a car. From an abstract perspective, we can identify its essential properties and behaviors: it has a color, a speed, can accelerate, brake, and turn. These are the features that matter to a user or a programmer who wants to use the car. The user doesn't need to know how the engine works, the internal mechanics, or the details of fuel injection systems. By abstracting away these details, the user can focus on interacting with the car based on its high-level functionality.\n",
    "\n",
    "Answer.\n",
    "\n",
    "Encapsulation involves bundling data and methods together, and controlling access to the data to ensure proper usage and maintain the integrity of the object or class.\n",
    "\n",
    "\n",
    "For example, consider a class called \"BankAccount\" that represents a bank account with properties like account number, balance, and methods like deposit and withdraw. In this case, the internal data (account number and balance) would be encapsulated within the class and made private, meaning they can only be accessed or modified through the methods provided by the class (e.g., deposit and withdraw). By encapsulating the data, the class can enforce rules and validations, such as checking for sufficient balance before allowing a withdrawal.\n",
    "\n",
    "Answer 2 is completed now."
   ]
  },
  {
   "cell_type": "code",
   "execution_count": null,
   "id": "86a0da5d-1b2a-4ea4-a55c-b73b6ff97b27",
   "metadata": {},
   "outputs": [],
   "source": [
    "Q3. What is abc module in python? Why is it used?\n",
    "Ans. Abc module  provides a way to define abstract base classes in Python, which are classes that cannot be instantiated directly but serve as a blueprint for other classes to inherit from.\n",
    "it is used for . \n",
    "we use abc module for to gave an order to all class that you should have to declared an object which is used in the same as abc abstract method class however Attributes could be different . \n",
    "# Answer 3 is completed now "
   ]
  },
  {
   "cell_type": "code",
   "execution_count": null,
   "id": "9e31b962-cf9d-4db4-a4f7-036ca2f39b31",
   "metadata": {},
   "outputs": [],
   "source": [
    "Q4. How can we achieve data abstraction?\n",
    "Ans - Data abstraction in Python can be achieved by using abstract classes and interfaces.\n",
    "# answer 4 is completed now."
   ]
  },
  {
   "cell_type": "code",
   "execution_count": null,
   "id": "67922243-16fb-4d71-8f14-2e983c90985c",
   "metadata": {},
   "outputs": [],
   "source": [
    "Q5. Can we create an instance of an abstract class? Explain your answer."
   ]
  },
  {
   "cell_type": "code",
   "execution_count": 1,
   "id": "f84b611a-a27a-4e3b-bb35-2689c7667f4e",
   "metadata": {},
   "outputs": [
    {
     "ename": "SyntaxError",
     "evalue": "invalid syntax (792900839.py, line 1)",
     "output_type": "error",
     "traceback": [
      "\u001b[0;36m  Cell \u001b[0;32mIn[1], line 1\u001b[0;36m\u001b[0m\n\u001b[0;31m    No , we can not create an instance directly of an abstract class because it is already defined in the abstract class also they are incomplete.\u001b[0m\n\u001b[0m            ^\u001b[0m\n\u001b[0;31mSyntaxError\u001b[0m\u001b[0;31m:\u001b[0m invalid syntax\n"
     ]
    }
   ],
   "source": [
    "No , we can not create an instance directly of an abstract class because it is already defined in the abstract class also they are incomplete.\n",
    "# answer 5 is completed now ."
   ]
  },
  {
   "cell_type": "code",
   "execution_count": null,
   "id": "afb25471-7f67-446f-a1fa-d725a1fa17a4",
   "metadata": {},
   "outputs": [],
   "source": []
  }
 ],
 "metadata": {
  "kernelspec": {
   "display_name": "Python 3 (ipykernel)",
   "language": "python",
   "name": "python3"
  },
  "language_info": {
   "codemirror_mode": {
    "name": "ipython",
    "version": 3
   },
   "file_extension": ".py",
   "mimetype": "text/x-python",
   "name": "python",
   "nbconvert_exporter": "python",
   "pygments_lexer": "ipython3",
   "version": "3.10.8"
  }
 },
 "nbformat": 4,
 "nbformat_minor": 5
}
